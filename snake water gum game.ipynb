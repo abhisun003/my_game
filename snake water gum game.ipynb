{
 "cells": [
  {
   "cell_type": "markdown",
   "metadata": {},
   "source": [
    "# without GUI"
   ]
  },
  {
   "cell_type": "code",
   "execution_count": 1,
   "metadata": {},
   "outputs": [
    {
     "name": "stdout",
     "output_type": "stream",
     "text": [
      "computer turn: Snake(s), Water(w), Gun(g)\n",
      "Your turn: Snake(s), Water(w), Gun(g): g\n",
      "computer choose--> w\n",
      "you choose--> g\n",
      "You Lose the Game!\n"
     ]
    }
   ],
   "source": [
    "import random as rnd\n",
    " \n",
    "def game(comp, you):\n",
    "    if comp==you:\n",
    "        return None\n",
    "    elif comp=='s':\n",
    "        if you=='w':\n",
    "            return False\n",
    "        elif you=='g':\n",
    "            return True\n",
    " \n",
    "    elif comp=='w':\n",
    "        if you=='g':\n",
    "            return False\n",
    "        elif you=='s':\n",
    "            return True\n",
    " \n",
    "    elif comp=='g':\n",
    "        if you=='s':\n",
    "            return False\n",
    "        elif you=='w':\n",
    "            return True\n",
    " \n",
    " \n",
    "print('computer turn: Snake(s), Water(w), Gun(g)')\n",
    "serv=rnd.randint(1,3)\n",
    "if serv==1:\n",
    "    comp='s'\n",
    "elif serv==2:\n",
    "    comp='w'\n",
    "else:\n",
    "    comp='g'\n",
    "    \n",
    "you=input('Your turn: Snake(s), Water(w), Gun(g): ')\n",
    "result= game(comp,you)\n",
    " \n",
    "print(f'computer choose--> {comp}')\n",
    "print(f'you choose--> {you}')\n",
    " \n",
    "if result == None:\n",
    "    print(\"The game is a tie!\")\n",
    "elif result:\n",
    "    print(\"You Win the Game!\")\n",
    "else:\n",
    "    print(\"You Lose the Game!\")"
   ]
  },
  {
   "cell_type": "markdown",
   "metadata": {},
   "source": [
    "# with GUI"
   ]
  },
  {
   "cell_type": "code",
   "execution_count": 2,
   "metadata": {},
   "outputs": [
    {
     "name": "stdout",
     "output_type": "stream",
     "text": [
      "computer turn: Snake(s), Water(w), Gun(g)\n",
      "computer choose--> w\n",
      "you choose--> s\n",
      "You Win the Game!\n"
     ]
    }
   ],
   "source": [
    "from tkinter import *\n",
    "import random as rnd\n",
    "import tkinter.messagebox\n",
    "\n",
    "root=Tk()\n",
    "root.geometry(\"350x300\")\n",
    "root.title(\"Snake, Water & Gun Game\")\n",
    "root.minsize(350,200)\n",
    "root.maxsize(400,350)\n",
    "###################################################\n",
    "def play():\n",
    "    def game(comp, you):\n",
    "        if comp==you:\n",
    "            return None\n",
    "        elif comp=='s':\n",
    "            if you=='w':\n",
    "                return False\n",
    "            elif you=='g':\n",
    "                return True\n",
    "    \n",
    "        elif comp=='w':\n",
    "            if you=='g':\n",
    "                return False\n",
    "            elif you=='s':\n",
    "                return True\n",
    "    \n",
    "        elif comp=='g':\n",
    "            if you=='s':\n",
    "                return False\n",
    "            elif you=='w':\n",
    "                return True\n",
    " \n",
    " \n",
    "    print('computer turn: Snake(s), Water(w), Gun(g)')\n",
    "    serv=rnd.randint(1,3)\n",
    "    if serv==1:\n",
    "        comp='s'\n",
    "    elif serv==2:\n",
    "        comp='w'\n",
    "    else:\n",
    "        comp='g'\n",
    "    \n",
    "    you=yourvalue.get()\n",
    "    result= game(comp,you)\n",
    "    \n",
    "    print(f'computer choose--> {comp}')\n",
    "    print(f'you choose--> {you}')\n",
    "    \n",
    "    if result == None:\n",
    "        print(\"The game is a tie!\")\n",
    "        # Result.insert(\"The game is a tie!\")\n",
    "        tkinter.messagebox.showinfo('Game Result', f\"Tie\\nComputer choice= {comp}\\nYour choice= {you}\")\n",
    "    elif result:\n",
    "        print(\"You Win the Game!\")\n",
    "        # Result.insert(\"You Win the Game!\")\n",
    "        tkinter.messagebox.showinfo('Game Result', f\"Win\\nComputer choice= {comp}\\nYour choice= {you}\")\n",
    "    else:\n",
    "        print(\"You Lose the Game!\")\n",
    "        # Result.insert(\"You Lose the Game!\")\n",
    "        tkinter.messagebox.showinfo('Game Result', f\"Lose\\nComputer choice= {comp}\\nYour choice= {you}\")\n",
    "\n",
    "\n",
    "#########################################\n",
    "yourchoice= Label(root, text=\"What you choose: s, w, g :\", font=\" arial 11 bold\",pady=20).grid(row=1, column=0)\n",
    "#Result= Label(root,text=\"Game Result: \", font=\" arial 11 bold\"). grid(row=3, column=0)\n",
    "\n",
    "yourvalue= StringVar()\n",
    "yourentry= Entry(root, textvariable= yourvalue, bg=\"yellow\").grid(row=1, column=1, pady=20, padx=20)\n",
    "#resultentry= Entry(root, bg=\"grey\").grid(row=3,column= 1)\n",
    "\n",
    "Button(text='   Play    ',bg= 'light blue',fg=\"red\",font=\"caliber 12 bold\", command=play).grid(row=2, column=1)\n",
    "\n",
    "\n",
    "root.mainloop()"
   ]
  },
  {
   "cell_type": "code",
   "execution_count": null,
   "metadata": {},
   "outputs": [],
   "source": []
  }
 ],
 "metadata": {
  "kernelspec": {
   "display_name": "Python 3",
   "language": "python",
   "name": "python3"
  },
  "language_info": {
   "codemirror_mode": {
    "name": "ipython",
    "version": 3
   },
   "file_extension": ".py",
   "mimetype": "text/x-python",
   "name": "python",
   "nbconvert_exporter": "python",
   "pygments_lexer": "ipython3",
   "version": "3.8.5"
  }
 },
 "nbformat": 4,
 "nbformat_minor": 2
}
