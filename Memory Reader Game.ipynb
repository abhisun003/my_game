{
 "cells": [
  {
   "cell_type": "code",
   "execution_count": 6,
   "metadata": {},
   "outputs": [
    {
     "name": "stdout",
     "output_type": "stream",
     "text": [
      "Your name please: gh\n",
      "Hello gh\n",
      "Are you ready to play Memory Reading Game?\n",
      "type'Y' or 'y' for Yes, \n",
      "Press any other key to Exit: h\n",
      "Thank You gh \n",
      "We see you soon\n",
      "\n",
      "This game is created by Abhishek Sundaram.\n"
     ]
    }
   ],
   "source": [
    "import random\n",
    "\n",
    "num= random.randrange(10,101,2)\n",
    "Name= input('Your name please: ')\n",
    "print('Hello '+ Name)\n",
    "start= input(\"Are you ready to play Memory Reading Game?\\ntype'Y' or 'y' for Yes, \\nPress any other key to Exit: \")\n",
    "if (start=='Y' or start=='y'):\n",
    "    print('\\nStep 1: Please choose any number in your mind.')\n",
    "    print('\\nStep 2: Multiply the choosen number by 2.')\n",
    "    print('\\nStep 3: Add',num,'in the previous number you calculate.')\n",
    "    print('\\nStep 4: Substract the same number you choosen first.')\n",
    "    print('\\n\\nHope you are doing good.')\n",
    "    result= None\n",
    "    result = input('Do we want the result. Type any key to proceed: ')\n",
    "    if result!= None:\n",
    "        print('\\nNumber remaining in your mind is= ',(num/2))\n",
    "        print('\\nThank You ' + Name, 'for Playing this game')\n",
    "else:\n",
    "    print('Thank You ' + Name, '\\nWe see you soon')\n",
    "\n",
    "print('\\nThis game is created by Abhishek Sundaram.')"
   ]
  }
 ],
 "metadata": {
  "kernelspec": {
   "display_name": "Python 3",
   "language": "python",
   "name": "python3"
  },
  "language_info": {
   "codemirror_mode": {
    "name": "ipython",
    "version": 3
   },
   "file_extension": ".py",
   "mimetype": "text/x-python",
   "name": "python",
   "nbconvert_exporter": "python",
   "pygments_lexer": "ipython3",
   "version": "3.6.5"
  }
 },
 "nbformat": 4,
 "nbformat_minor": 2
}
